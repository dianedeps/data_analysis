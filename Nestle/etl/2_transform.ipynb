{
 "cells": [
  {
   "cell_type": "code",
   "execution_count": null,
   "id": "36f1d49a",
   "metadata": {},
   "outputs": [],
   "source": [
    "import csv\n",
    "import datetime\n",
    "import json\n",
    "import os\n",
    "import pandas as pd\n",
    "import re\n",
    "import unidecode"
   ]
  },
  {
   "attachments": {},
   "cell_type": "markdown",
   "id": "26b3ffbc",
   "metadata": {},
   "source": [
    "Setting variables"
   ]
  },
  {
   "cell_type": "code",
   "execution_count": null,
   "id": "a2cbab92",
   "metadata": {},
   "outputs": [],
   "source": [
    "path_wd   = os.getcwd() \n",
    "path_root = path_wd.rsplit(\"\\\\\",1)[0]\n",
    "\n",
    "path_data = path_root + '\\\\data\\\\'\n",
    "path_etl  = path_root + '\\\\etl\\\\'\n",
    "\n",
    "path_user = os.path.expanduser('~')"
   ]
  },
  {
   "cell_type": "code",
   "execution_count": null,
   "id": "4ce4cb5a",
   "metadata": {},
   "outputs": [],
   "source": [
    "# This function returns a data frame with [\"full_path\", \"item\", \"path\", \"file\", (\"extension\")] \n",
    "# root_path -> file path in windows format\n",
    "# extension = [1, 0] -> extension of the file based on the name\n",
    "def list_files(root_path, extension):\n",
    "    if extension == 1:\n",
    "        cols = [\"full_path\", \"item\", \"path\", \"file\", \"extension\"]\n",
    "    else:\n",
    "        cols = [\"full_path\", \"item\", \"path\", \"file\"]\n",
    "    \n",
    "    df_final = pd.DataFrame(columns = cols)\n",
    "    df = pd.DataFrame(columns = cols)\n",
    "\n",
    "    # List with all items into 'root_path'\n",
    "    list_root_path = os.listdir(root_path)\n",
    "    \n",
    "    # Iterates through root_path items list and concat info: [cols] to final df\n",
    "    for i in range(len(list_root_path)):\n",
    "        item = list_root_path[i]\n",
    "        full_path = root_path + item\n",
    "\n",
    "        if os.path.isdir(full_path):\n",
    "            path_list = os.listdir(full_path)\n",
    "\n",
    "            # Iterates through directory items list \n",
    "            for j in range(len(path_list)):\n",
    "                file = path_list[j]\n",
    "                f_type = file.rsplit(\".\", 1)[1] # maxsplit parameter = 1 returns 2 values, then select list position value, same logic\n",
    "\n",
    "                if extension == 1:\n",
    "                    data = [full_path+'\\\\'+file, item, full_path, file, f_type]\n",
    "                else:\n",
    "                    data = [full_path+'\\\\'+file, item, full_path, file]\n",
    "\n",
    "                df.loc[j] = data\n",
    "\n",
    "        elif os.path.isfile(full_path):\n",
    "            file = item\n",
    "            f_type = file.rsplit(\".\", 1)[1]\n",
    "\n",
    "            if extension == 1:\n",
    "                df = pd.DataFrame([[full_path, full_path.rsplit(\"\\\\\")[-2], root_path, file, f_type]], columns = cols)\n",
    "            else:\n",
    "                df = pd.DataFrame([[full_path, full_path.rsplit(\"\\\\\")[-2], root_path, file]], columns = cols)\n",
    "\n",
    "        else:\n",
    "            file = item\n",
    "            f_type = file.rsplit(\".\", 1)[1]\n",
    "\n",
    "            if extension == 1:\n",
    "                df = pd.DataFrame([[full_path, full_path.rsplit(\"\\\\\")[-1], root_path, file, f_type]], columns = cols)\n",
    "            else:\n",
    "                df = pd.DataFrame([[full_path, full_path.rsplit(\"\\\\\")[-1], root_path, file]], columns = cols)\n",
    "\n",
    "        df_final = pd.concat([df_final, df], ignore_index = True)\n",
    "        df = pd.DataFrame(columns = cols)\n",
    "    \n",
    "    return df_final"
   ]
  },
  {
   "cell_type": "code",
   "execution_count": null,
   "id": "0c7ab2ec",
   "metadata": {},
   "outputs": [],
   "source": [
    "# List all files in etl directory\n",
    "df_etl_files_list = list_files(path_etl, 1)"
   ]
  },
  {
   "cell_type": "code",
   "execution_count": null,
   "id": "cf9ff739",
   "metadata": {},
   "outputs": [],
   "source": [
    "# This function returns a data frame object based on listed file\n",
    "def get_raw_file(full_path):\n",
    "    if full_path.split('.')[1] == 'csv':\n",
    "        df_raw = pd.read_csv(full_path, delimiter=\",\")\n",
    "    elif full_path.split('.')[1] == 'xlsx':\n",
    "        df_raw = pd.read_excel(full_path)\n",
    "    elif full_path.split('.')[1] == 'json':\n",
    "        df_raw = pd.read_json(full_path)\n",
    "\n",
    "    return df_raw"
   ]
  },
  {
   "cell_type": "code",
   "execution_count": null,
   "id": "4dd13e30",
   "metadata": {},
   "outputs": [],
   "source": [
    "# List all files in etl directory\n",
    "df_etl_files_list = list_files(path_etl, 1)\n",
    "df_list = df_etl_files_list[df_etl_files_list['item'] == 'formatting']"
   ]
  },
  {
   "cell_type": "code",
   "execution_count": null,
   "id": "a030eec9",
   "metadata": {},
   "outputs": [],
   "source": [
    "def clean_header(header):\n",
    "    header = re.sub(r'[ .]', '_', header)\n",
    "    header = unidecode.unidecode(header)\n",
    "    header = header.lower()\n",
    "    return header\n",
    "\n",
    "def clean_dataframe_headers(df):\n",
    "    df.columns = [clean_header(header) for header in df.columns]\n",
    "    return df\n"
   ]
  },
  {
   "cell_type": "code",
   "execution_count": null,
   "id": "fb1b2c5d",
   "metadata": {},
   "outputs": [],
   "source": [
    "for i in range(len(df_list)):\n",
    "    f_name = df_list['full_path'].iloc[i]\n",
    "\n",
    "    df_to_format = get_raw_file(f_name)\n",
    "\n",
    "    df = clean_dataframe_headers(df_to_format)\n",
    "\n",
    "    df.to_csv(f_name, index=False)\n",
    "\n"
   ]
  },
  {
   "cell_type": "code",
   "execution_count": null,
   "id": "181a865a",
   "metadata": {},
   "outputs": [],
   "source": []
  }
 ],
 "metadata": {
  "kernelspec": {
   "display_name": "base",
   "language": "python",
   "name": "python3"
  },
  "language_info": {
   "codemirror_mode": {
    "name": "ipython",
    "version": 3
   },
   "file_extension": ".py",
   "mimetype": "text/x-python",
   "name": "python",
   "nbconvert_exporter": "python",
   "pygments_lexer": "ipython3",
   "version": "3.9.13"
  },
  "vscode": {
   "interpreter": {
    "hash": "2c8a37b3b3643c9fb15903c055339ac833392cb866e775b4277fbf96facdfc8e"
   }
  }
 },
 "nbformat": 4,
 "nbformat_minor": 5
}
