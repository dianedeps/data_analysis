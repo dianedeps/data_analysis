{
 "cells": [
  {
   "cell_type": "code",
   "execution_count": null,
   "id": "36f1d49a",
   "metadata": {},
   "outputs": [],
   "source": [
    "import csv\n",
    "import os\n",
    "import pandas as pd\n",
    "import sqlite3"
   ]
  },
  {
   "attachments": {},
   "cell_type": "markdown",
   "id": "26b3ffbc",
   "metadata": {},
   "source": [
    "Setting variables"
   ]
  },
  {
   "cell_type": "code",
   "execution_count": null,
   "id": "a2cbab92",
   "metadata": {},
   "outputs": [],
   "source": [
    "path_wd   = os.getcwd() \n",
    "path_root = path_wd.rsplit(\"\\\\\",1)[0]\n",
    "\n",
    "path_data = path_root + '\\\\data\\\\'\n",
    "path_etl  = path_root + '\\\\etl\\\\'\n",
    "\n",
    "path_user = os.path.expanduser('~')"
   ]
  },
  {
   "cell_type": "code",
   "execution_count": null,
   "id": "586c4f42",
   "metadata": {},
   "outputs": [],
   "source": []
  }
 ],
 "metadata": {
  "kernelspec": {
   "display_name": "base",
   "language": "python",
   "name": "python3"
  },
  "language_info": {
   "codemirror_mode": {
    "name": "ipython",
    "version": 3
   },
   "file_extension": ".py",
   "mimetype": "text/x-python",
   "name": "python",
   "nbconvert_exporter": "python",
   "pygments_lexer": "ipython3",
   "version": "3.9.13"
  },
  "vscode": {
   "interpreter": {
    "hash": "2c8a37b3b3643c9fb15903c055339ac833392cb866e775b4277fbf96facdfc8e"
   }
  }
 },
 "nbformat": 4,
 "nbformat_minor": 5
}
